{
 "metadata": {
  "name": "",
  "signature": "sha256:8263d9ec31119a87b9daebcd5063af700255d757b90186a67a6625ce4a3caa20"
 },
 "nbformat": 3,
 "nbformat_minor": 0,
 "worksheets": [
  {
   "cells": [
    {
     "cell_type": "code",
     "collapsed": false,
     "input": [
      "from data_api import *\n",
      "import glob\n",
      "import re\n",
      "from sklearn.preprocessing import MinMaxScaler\n",
      "import itertools"
     ],
     "language": "python",
     "metadata": {},
     "outputs": [],
     "prompt_number": 1
    },
    {
     "cell_type": "code",
     "collapsed": false,
     "input": [
      "prefix = \"svm_rbf_prot\"\n",
      "model = \"svm_rbf\"\n",
      "model_name = \"svm_rbf\"\n",
      "\n",
      "def get_all_models(prefix, model, model_name):\n",
      "    start_folder = \"\"\n",
      "    if len(sys.argv) > 4:\n",
      "        start_folder = sys.argv[4]\n",
      "\n",
      "    assert(model in [\"svm_jaccard\",\"svm_rbf_nystr\", \"svm_rbf\", \"KNN\", \"KNN_LSH\", \"svm_linear\", \"lr\"])\n",
      "\n",
      "    extract_configs = {\n",
      "        \"lr\":[\"C\"],\n",
      "        \"svm_jaccard\": [\"C\"],\n",
      "        \"svm_rbf_nystr\": [\"C\", \"gamma\"],\n",
      "        \"svm_rbf\":[\"C\", \"gamma\"],\n",
      "        \"KNN\":[\"KNN_K\"],\n",
      "        \"KNN_LSH\": [],\n",
      "        \"svm_linear\": [\"C\"]\n",
      "    }\n",
      "\n",
      "    results_table = [\"mean_mcc\", \"mean_wac\", \"mean_acc\"]\n",
      "    monitors_mean = [\"train_time\", \"test_time\", \"n_support\"]\n",
      "    # Get experiments wanted\n",
      "\n",
      "    experiments = glob.glob(os.path.join(c[\"BASE_DIR\"], prefix+\"*experiment\"))\n",
      "\n",
      "    print experiments\n",
      "\n",
      "    # Few necessary hacks :(\n",
      "    import re\n",
      "    if model == \"KNN\":\n",
      "        experiments = [e for e in experiments if not re.match(\".*LSH.*\", e)]\n",
      "    if model == \"svm_rbf\":\n",
      "        experiments = [e for e in experiments if not re.match(\".*nystr.*\", e)]\n",
      "\n",
      "    # Load experiments and group by prot/fin\n",
      "    experiments_grouped = {}\n",
      "\n",
      "    for e_name in experiments:\n",
      "\n",
      "        try:\n",
      "            E = cPickle.load(open(e_name,\"r\"))\n",
      "            \n",
      "            if proteins[E[\"config\"][\"protein\"]] in c[\"EXCLUDED_PROTEINS\"]:\n",
      "                continue\n",
      "        \n",
      "            \n",
      "            experiments_grouped[(E[\"config\"][\"protein\"], E[\"config\"][\"fingerprint\"])] = E\n",
      "        except:\n",
      "            print \"Failed \"+e_name\n",
      "            \n",
      "    return experiments_grouped\n"
     ],
     "language": "python",
     "metadata": {},
     "outputs": [],
     "prompt_number": 25
    },
    {
     "cell_type": "code",
     "collapsed": false,
     "input": [
      "rbf_nystr = get_all_models(\"svm_rbf_nystr\", \"svm_rbf_nystr\", \"svm_rbf_nystr\")"
     ],
     "language": "python",
     "metadata": {},
     "outputs": [
      {
       "output_type": "stream",
       "stream": "stdout",
       "text": [
        "['/mnt/users/czarnecki/local/tfml/svm_rbf_nystr_prot_0_fin_2.experiment', '/mnt/users/czarnecki/local/tfml/svm_rbf_nystr_prot_7_fin_7.experiment', '/mnt/users/czarnecki/local/tfml/svm_rbf_nystr_prot_5_fin_0.experiment', '/mnt/users/czarnecki/local/tfml/svm_rbf_nystr_prot_5_fin_4.experiment', '/mnt/users/czarnecki/local/tfml/svm_rbf_nystr_prot_3_fin_2.experiment', '/mnt/users/czarnecki/local/tfml/svm_rbf_nystr_prot_3_fin_4.experiment', '/mnt/users/czarnecki/local/tfml/svm_rbf_nystr_prot_9_fin_4.experiment', '/mnt/users/czarnecki/local/tfml/svm_rbf_nystr_prot_5_fin_2.experiment', '/mnt/users/czarnecki/local/tfml/svm_rbf_nystr_prot_3_fin_0.experiment', '/mnt/users/czarnecki/local/tfml/svm_rbf_nystr_prot_9_fin_7.experiment', '/mnt/users/czarnecki/local/tfml/svm_rbf_nystr_prot_2_fin_2.experiment', '/mnt/users/czarnecki/local/tfml/svm_rbf_nystr_prot_2_fin_5.experiment', '/mnt/users/czarnecki/local/tfml/svm_rbf_nystr_prot_10_fin_3.experiment', '/mnt/users/czarnecki/local/tfml/svm_rbf_nystr_prot_11_fin_4.experiment', '/mnt/users/czarnecki/local/tfml/svm_rbf_nystr_prot_8_fin_2.experiment', '/mnt/users/czarnecki/local/tfml/svm_rbf_nystr_prot_6_fin_5.experiment', '/mnt/users/czarnecki/local/tfml/svm_rbf_nystr_prot_10_fin_6.experiment', '/mnt/users/czarnecki/local/tfml/svm_rbf_nystr_prot_2_fin_7.experiment', '/mnt/users/czarnecki/local/tfml/svm_rbf_nystr_prot_8_fin_4.experiment', '/mnt/users/czarnecki/local/tfml/svm_rbf_nystr_prot_11_fin_0.experiment', '/mnt/users/czarnecki/local/tfml/svm_rbf_nystr_prot_0_fin_1.experiment', '/mnt/users/czarnecki/local/tfml/svm_rbf_nystr_prot_7_fin_5.experiment', '/mnt/users/czarnecki/local/tfml/svm_rbf_nystr_prot_1_fin_5.experiment', '/mnt/users/czarnecki/local/tfml/svm_rbf_nystr_prot_4_fin_5.experiment', '/mnt/users/czarnecki/local/tfml/svm_rbf_nystr_prot_2_fin_1.experiment', '/mnt/users/czarnecki/local/tfml/svm_rbf_nystr_prot_8_fin_7.experiment', '/mnt/users/czarnecki/local/tfml/svm_rbf_nystr_prot_8_fin_3.experiment', '/mnt/users/czarnecki/local/tfml/svm_rbf_nystr_prot_10_fin_1.experiment', '/mnt/users/czarnecki/local/tfml/svm_rbf_nystr_prot_10_fin_0.experiment', '/mnt/users/czarnecki/local/tfml/svm_rbf_nystr_prot_11_fin_1.experiment', '/mnt/users/czarnecki/local/tfml/svm_rbf_nystr_prot_11_fin_6.experiment', '/mnt/users/czarnecki/local/tfml/svm_rbf_nystr_prot_3_fin_5.experiment', '/mnt/users/czarnecki/local/tfml/svm_rbf_nystr_prot_5_fin_7.experiment', '/mnt/users/czarnecki/local/tfml/svm_rbf_nystr_prot_0_fin_4.experiment', '/mnt/users/czarnecki/local/tfml/svm_rbf_nystr_prot_9_fin_3.experiment', '/mnt/users/czarnecki/local/tfml/svm_rbf_nystr_prot_4_fin_4.experiment', '/mnt/users/czarnecki/local/tfml/svm_rbf_nystr_prot_7_fin_1.experiment', '/mnt/users/czarnecki/local/tfml/svm_rbf_nystr_prot_2_fin_6.experiment', '/mnt/users/czarnecki/local/tfml/svm_rbf_nystr_prot_5_fin_5.experiment', '/mnt/users/czarnecki/local/tfml/svm_rbf_nystr_prot_3_fin_6.experiment', '/mnt/users/czarnecki/local/tfml/svm_rbf_nystr_prot_7_fin_4.experiment', '/mnt/users/czarnecki/local/tfml/svm_rbf_nystr_prot_5_fin_6.experiment', '/mnt/users/czarnecki/local/tfml/svm_rbf_nystr_prot_6_fin_6.experiment', '/mnt/users/czarnecki/local/tfml/svm_rbf_nystr_prot_0_fin_3.experiment', '/mnt/users/czarnecki/local/tfml/svm_rbf_nystr_prot_0_fin_6.experiment', '/mnt/users/czarnecki/local/tfml/svm_rbf_nystr_prot_11_fin_3.experiment', '/mnt/users/czarnecki/local/tfml/svm_rbf_nystr_prot_8_fin_5.experiment', '/mnt/users/czarnecki/local/tfml/svm_rbf_nystr_prot_6_fin_1.experiment', '/mnt/users/czarnecki/local/tfml/svm_rbf_nystr_prot_7_fin_0.experiment', '/mnt/users/czarnecki/local/tfml/svm_rbf_nystr_prot_6_fin_2.experiment', '/mnt/users/czarnecki/local/tfml/svm_rbf_nystr_prot_4_fin_1.experiment', '/mnt/users/czarnecki/local/tfml/svm_rbf_nystr_prot_3_fin_7.experiment', '/mnt/users/czarnecki/local/tfml/svm_rbf_nystr_prot_9_fin_2.experiment', '/mnt/users/czarnecki/local/tfml/svm_rbf_nystr_prot_8_fin_1.experiment', '/mnt/users/czarnecki/local/tfml/svm_rbf_nystr_prot_6_fin_4.experiment', '/mnt/users/czarnecki/local/tfml/svm_rbf_nystr_prot_11_fin_7.experiment', '/mnt/users/czarnecki/local/tfml/svm_rbf_nystr_prot_9_fin_5.experiment', '/mnt/users/czarnecki/local/tfml/svm_rbf_nystr_prot_10_fin_2.experiment', '/mnt/users/czarnecki/local/tfml/svm_rbf_nystr_prot_1_fin_2.experiment', '/mnt/users/czarnecki/local/tfml/svm_rbf_nystr_prot_0_fin_7.experiment', '/mnt/users/czarnecki/local/tfml/svm_rbf_nystr_prot_4_fin_3.experiment', '/mnt/users/czarnecki/local/tfml/svm_rbf_nystr_prot_1_fin_1.experiment', '/mnt/users/czarnecki/local/tfml/svm_rbf_nystr_prot_7_fin_6.experiment', '/mnt/users/czarnecki/local/tfml/svm_rbf_nystr_prot_6_fin_0.experiment', '/mnt/users/czarnecki/local/tfml/svm_rbf_nystr_prot_7_fin_2.experiment', '/mnt/users/czarnecki/local/tfml/svm_rbf_nystr_prot_4_fin_2.experiment', '/mnt/users/czarnecki/local/tfml/svm_rbf_nystr_prot_10_fin_4.experiment', '/mnt/users/czarnecki/local/tfml/svm_rbf_nystr_prot_1_fin_7.experiment', '/mnt/users/czarnecki/local/tfml/svm_rbf_nystr_prot_3_fin_3.experiment', '/mnt/users/czarnecki/local/tfml/svm_rbf_nystr_prot_0_fin_0.experiment', '/mnt/users/czarnecki/local/tfml/svm_rbf_nystr_prot_9_fin_6.experiment', '/mnt/users/czarnecki/local/tfml/svm_rbf_nystr_prot_4_fin_0.experiment', '/mnt/users/czarnecki/local/tfml/svm_rbf_nystr_prot_6_fin_3.experiment', '/mnt/users/czarnecki/local/tfml/svm_rbf_nystr_prot_6_fin_7.experiment', '/mnt/users/czarnecki/local/tfml/svm_rbf_nystr_prot_1_fin_3.experiment', '/mnt/users/czarnecki/local/tfml/svm_rbf_nystr_prot_2_fin_4.experiment', '/mnt/users/czarnecki/local/tfml/svm_rbf_nystr_prot_11_fin_5.experiment', '/mnt/users/czarnecki/local/tfml/svm_rbf_nystr_prot_8_fin_6.experiment', '/mnt/users/czarnecki/local/tfml/svm_rbf_nystr_prot_4_fin_7.experiment', '/mnt/users/czarnecki/local/tfml/svm_rbf_nystr_prot_1_fin_4.experiment', '/mnt/users/czarnecki/local/tfml/svm_rbf_nystr_prot_5_fin_3.experiment', '/mnt/users/czarnecki/local/tfml/svm_rbf_nystr_prot_0_fin_5.experiment', '/mnt/users/czarnecki/local/tfml/svm_rbf_nystr_prot_10_fin_7.experiment', '/mnt/users/czarnecki/local/tfml/svm_rbf_nystr_prot_2_fin_3.experiment', '/mnt/users/czarnecki/local/tfml/svm_rbf_nystr_prot_3_fin_1.experiment', '/mnt/users/czarnecki/local/tfml/svm_rbf_nystr_prot_1_fin_0.experiment', '/mnt/users/czarnecki/local/tfml/svm_rbf_nystr_prot_5_fin_1.experiment', '/mnt/users/czarnecki/local/tfml/svm_rbf_nystr_prot_1_fin_6.experiment', '/mnt/users/czarnecki/local/tfml/svm_rbf_nystr_prot_7_fin_3.experiment', '/mnt/users/czarnecki/local/tfml/svm_rbf_nystr_prot_4_fin_6.experiment', '/mnt/users/czarnecki/local/tfml/svm_rbf_nystr_prot_8_fin_0.experiment', '/mnt/users/czarnecki/local/tfml/svm_rbf_nystr_prot_10_fin_5.experiment', '/mnt/users/czarnecki/local/tfml/svm_rbf_nystr_prot_2_fin_0.experiment', '/mnt/users/czarnecki/local/tfml/svm_rbf_nystr_prot_11_fin_2.experiment']\n",
        "Failed /mnt/users/czarnecki/local/tfml/svm_rbf_nystr_prot_9_fin_3.experiment"
       ]
      },
      {
       "output_type": "stream",
       "stream": "stdout",
       "text": [
        "\n",
        "Failed /mnt/users/czarnecki/local/tfml/svm_rbf_nystr_prot_9_fin_5.experiment"
       ]
      },
      {
       "output_type": "stream",
       "stream": "stdout",
       "text": [
        "\n"
       ]
      }
     ],
     "prompt_number": 51
    },
    {
     "cell_type": "code",
     "collapsed": false,
     "input": [
      "jaccard = get_all_models(\"svm_jaccard\", \"svm_jaccard\", \"svm_jaccard\")"
     ],
     "language": "python",
     "metadata": {},
     "outputs": [
      {
       "output_type": "stream",
       "stream": "stdout",
       "text": [
        "['/mnt/users/czarnecki/local/tfml/svm_jaccard_prot_1_fin_2.experiment', '/mnt/users/czarnecki/local/tfml/svm_jaccard_prot_7_fin_4.experiment', '/mnt/users/czarnecki/local/tfml/svm_jaccard_prot_8_fin_5.experiment', '/mnt/users/czarnecki/local/tfml/svm_jaccard_prot_4_fin_5.experiment', '/mnt/users/czarnecki/local/tfml/svm_jaccard_prot_1_fin_0.experiment', '/mnt/users/czarnecki/local/tfml/svm_jaccard_prot_3_fin_1.experiment', '/mnt/users/czarnecki/local/tfml/svm_jaccard_prot_10_fin_0.experiment', '/mnt/users/czarnecki/local/tfml/svm_jaccard_prot_10_fin_5.experiment', '/mnt/users/czarnecki/local/tfml/svm_jaccard_prot_4_fin_3.experiment', '/mnt/users/czarnecki/local/tfml/svm_jaccard_prot_3_fin_5.experiment', '/mnt/users/czarnecki/local/tfml/svm_jaccard_prot_9_fin_1.experiment', '/mnt/users/czarnecki/local/tfml/svm_jaccard_prot_7_fin_6.experiment', '/mnt/users/czarnecki/local/tfml/svm_jaccard_prot_5_fin_6.experiment', '/mnt/users/czarnecki/local/tfml/svm_jaccard_prot_4_fin_7.experiment', '/mnt/users/czarnecki/local/tfml/svm_jaccard_prot_10_fin_1.experiment', '/mnt/users/czarnecki/local/tfml/svm_jaccard_prot_7_fin_2.experiment', '/mnt/users/czarnecki/local/tfml/svm_jaccard_prot_1_fin_4.experiment', '/mnt/users/czarnecki/local/tfml/svm_jaccard_prot_3_fin_4.experiment', '/mnt/users/czarnecki/local/tfml/svm_jaccard_prot_9_fin_0.experiment', '/mnt/users/czarnecki/local/tfml/svm_jaccard_prot_8_fin_4.experiment', '/mnt/users/czarnecki/local/tfml/svm_jaccard_prot_5_fin_0.experiment', '/mnt/users/czarnecki/local/tfml/svm_jaccard_prot_0_fin_3.experiment', '/mnt/users/czarnecki/local/tfml/svm_jaccard_prot_10_fin_2.experiment', '/mnt/users/czarnecki/local/tfml/svm_jaccard_prot_1_fin_5.experiment', '/mnt/users/czarnecki/local/tfml/svm_jaccard_prot_2_fin_3.experiment', '/mnt/users/czarnecki/local/tfml/svm_jaccard_prot_8_fin_7.experiment', '/mnt/users/czarnecki/local/tfml/svm_jaccard_prot_5_fin_7.experiment', '/mnt/users/czarnecki/local/tfml/svm_jaccard_prot_6_fin_2.experiment', '/mnt/users/czarnecki/local/tfml/svm_jaccard_prot_7_fin_5.experiment', '/mnt/users/czarnecki/local/tfml/svm_jaccard_prot_0_fin_1.experiment', '/mnt/users/czarnecki/local/tfml/svm_jaccard_prot_11_fin_1.experiment', '/mnt/users/czarnecki/local/tfml/svm_jaccard_prot_6_fin_0.experiment', '/mnt/users/czarnecki/local/tfml/svm_jaccard_prot_11_fin_6.experiment', '/mnt/users/czarnecki/local/tfml/svm_jaccard_prot_0_fin_6.experiment', '/mnt/users/czarnecki/local/tfml/svm_jaccard_prot_5_fin_2.experiment', '/mnt/users/czarnecki/local/tfml/svm_jaccard_prot_11_fin_2.experiment', '/mnt/users/czarnecki/local/tfml/svm_jaccard_prot_9_fin_7.experiment', '/mnt/users/czarnecki/local/tfml/svm_jaccard_prot_2_fin_7.experiment', '/mnt/users/czarnecki/local/tfml/svm_jaccard_prot_9_fin_3.experiment', '/mnt/users/czarnecki/local/tfml/svm_jaccard_prot_0_fin_5.experiment', '/mnt/users/czarnecki/local/tfml/svm_jaccard_prot_5_fin_1.experiment', '/mnt/users/czarnecki/local/tfml/svm_jaccard_prot_4_fin_0.experiment', '/mnt/users/czarnecki/local/tfml/svm_jaccard_prot_6_fin_3.experiment', '/mnt/users/czarnecki/local/tfml/svm_jaccard_prot_11_fin_3.experiment', '/mnt/users/czarnecki/local/tfml/svm_jaccard_prot_6_fin_6.experiment', '/mnt/users/czarnecki/local/tfml/svm_jaccard_prot_1_fin_6.experiment', '/mnt/users/czarnecki/local/tfml/svm_jaccard_prot_5_fin_5.experiment', '/mnt/users/czarnecki/local/tfml/svm_jaccard_prot_6_fin_7.experiment', '/mnt/users/czarnecki/local/tfml/svm_jaccard_prot_10_fin_7.experiment', '/mnt/users/czarnecki/local/tfml/svm_jaccard_prot_3_fin_0.experiment', '/mnt/users/czarnecki/local/tfml/svm_jaccard_prot_6_fin_4.experiment', '/mnt/users/czarnecki/local/tfml/svm_jaccard_prot_1_fin_3.experiment', '/mnt/users/czarnecki/local/tfml/svm_jaccard_prot_7_fin_0.experiment', '/mnt/users/czarnecki/local/tfml/svm_jaccard_prot_7_fin_1.experiment', '/mnt/users/czarnecki/local/tfml/svm_jaccard_prot_2_fin_0.experiment', '/mnt/users/czarnecki/local/tfml/svm_jaccard_prot_2_fin_5.experiment', '/mnt/users/czarnecki/local/tfml/svm_jaccard_prot_8_fin_2.experiment', '/mnt/users/czarnecki/local/tfml/svm_jaccard_prot_9_fin_2.experiment', '/mnt/users/czarnecki/local/tfml/svm_jaccard_prot_0_fin_7.experiment', '/mnt/users/czarnecki/local/tfml/svm_jaccard_prot_3_fin_2.experiment', '/mnt/users/czarnecki/local/tfml/svm_jaccard_prot_7_fin_3.experiment', '/mnt/users/czarnecki/local/tfml/svm_jaccard_prot_4_fin_4.experiment', '/mnt/users/czarnecki/local/tfml/svm_jaccard_prot_11_fin_0.experiment', '/mnt/users/czarnecki/local/tfml/svm_jaccard_prot_10_fin_3.experiment', '/mnt/users/czarnecki/local/tfml/svm_jaccard_prot_6_fin_1.experiment', '/mnt/users/czarnecki/local/tfml/svm_jaccard_prot_9_fin_4.experiment', '/mnt/users/czarnecki/local/tfml/svm_jaccard_prot_6_fin_5.experiment', '/mnt/users/czarnecki/local/tfml/svm_jaccard_prot_3_fin_7.experiment', '/mnt/users/czarnecki/local/tfml/svm_jaccard_prot_2_fin_4.experiment', '/mnt/users/czarnecki/local/tfml/svm_jaccard_prot_10_fin_6.experiment', '/mnt/users/czarnecki/local/tfml/svm_jaccard_prot_2_fin_1.experiment', '/mnt/users/czarnecki/local/tfml/svm_jaccard_prot_8_fin_1.experiment', '/mnt/users/czarnecki/local/tfml/svm_jaccard_prot_9_fin_6.experiment', '/mnt/users/czarnecki/local/tfml/svm_jaccard_prot_8_fin_6.experiment', '/mnt/users/czarnecki/local/tfml/svm_jaccard_prot_5_fin_3.experiment', '/mnt/users/czarnecki/local/tfml/svm_jaccard_prot_4_fin_6.experiment', '/mnt/users/czarnecki/local/tfml/svm_jaccard_prot_11_fin_4.experiment', '/mnt/users/czarnecki/local/tfml/svm_jaccard_prot_0_fin_2.experiment', '/mnt/users/czarnecki/local/tfml/svm_jaccard_prot_4_fin_2.experiment', '/mnt/users/czarnecki/local/tfml/svm_jaccard_prot_1_fin_1.experiment', '/mnt/users/czarnecki/local/tfml/svm_jaccard_prot_0_fin_0.experiment', '/mnt/users/czarnecki/local/tfml/svm_jaccard_prot_8_fin_3.experiment', '/mnt/users/czarnecki/local/tfml/svm_jaccard_prot_9_fin_5.experiment', '/mnt/users/czarnecki/local/tfml/svm_jaccard_prot_11_fin_5.experiment', '/mnt/users/czarnecki/local/tfml/svm_jaccard_prot_7_fin_7.experiment', '/mnt/users/czarnecki/local/tfml/svm_jaccard_prot_2_fin_6.experiment', '/mnt/users/czarnecki/local/tfml/svm_jaccard_prot_10_fin_4.experiment', '/mnt/users/czarnecki/local/tfml/svm_jaccard_prot_4_fin_1.experiment', '/mnt/users/czarnecki/local/tfml/svm_jaccard_prot_0_fin_4.experiment', '/mnt/users/czarnecki/local/tfml/svm_jaccard_prot_1_fin_7.experiment', '/mnt/users/czarnecki/local/tfml/svm_jaccard_prot_3_fin_3.experiment', '/mnt/users/czarnecki/local/tfml/svm_jaccard_prot_11_fin_7.experiment', '/mnt/users/czarnecki/local/tfml/svm_jaccard_prot_3_fin_6.experiment', '/mnt/users/czarnecki/local/tfml/svm_jaccard_prot_5_fin_4.experiment', '/mnt/users/czarnecki/local/tfml/svm_jaccard_prot_8_fin_0.experiment', '/mnt/users/czarnecki/local/tfml/svm_jaccard_prot_2_fin_2.experiment']\n"
       ]
      }
     ],
     "prompt_number": 50
    },
    {
     "cell_type": "code",
     "collapsed": false,
     "input": [
      "linear = get_all_models(\"svm_linear_fixed_K_20\", \"svm_linear\", \"svm_linear\")"
     ],
     "language": "python",
     "metadata": {},
     "outputs": [
      {
       "output_type": "stream",
       "stream": "stdout",
       "text": [
        "['/mnt/users/czarnecki/local/tfml/svm_linear_fixed_K_20_7_fin_7.experiment', '/mnt/users/czarnecki/local/tfml/svm_linear_fixed_K_20_10_fin_1.experiment', '/mnt/users/czarnecki/local/tfml/svm_linear_fixed_K_20_2_fin_5.experiment', '/mnt/users/czarnecki/local/tfml/svm_linear_fixed_K_20_9_fin_7.experiment', '/mnt/users/czarnecki/local/tfml/svm_linear_fixed_K_20_2_fin_2.experiment', '/mnt/users/czarnecki/local/tfml/svm_linear_fixed_K_20_5_fin_2.experiment', '/mnt/users/czarnecki/local/tfml/svm_linear_fixed_K_20_6_fin_0.experiment', '/mnt/users/czarnecki/local/tfml/svm_linear_fixed_K_20_0_fin_1.experiment', '/mnt/users/czarnecki/local/tfml/svm_linear_fixed_K_20_7_fin_0.experiment', '/mnt/users/czarnecki/local/tfml/svm_linear_fixed_K_20_10_fin_5.experiment', '/mnt/users/czarnecki/local/tfml/svm_linear_fixed_K_20_6_fin_3.experiment', '/mnt/users/czarnecki/local/tfml/svm_linear_fixed_K_20_1_fin_1.experiment', '/mnt/users/czarnecki/local/tfml/svm_linear_fixed_K_20_0_fin_7.experiment', '/mnt/users/czarnecki/local/tfml/svm_linear_fixed_K_20_5_fin_5.experiment', '/mnt/users/czarnecki/local/tfml/svm_linear_fixed_K_20_8_fin_0.experiment', '/mnt/users/czarnecki/local/tfml/svm_linear_fixed_K_20_5_fin_1.experiment', '/mnt/users/czarnecki/local/tfml/svm_linear_fixed_K_20_0_fin_4.experiment', '/mnt/users/czarnecki/local/tfml/svm_linear_fixed_K_20_4_fin_1.experiment', '/mnt/users/czarnecki/local/tfml/svm_linear_fixed_K_20_11_fin_7.experiment', '/mnt/users/czarnecki/local/tfml/svm_linear_fixed_K_20_1_fin_3.experiment', '/mnt/users/czarnecki/local/tfml/svm_linear_fixed_K_20_0_fin_6.experiment', '/mnt/users/czarnecki/local/tfml/svm_linear_fixed_K_20_2_fin_1.experiment', '/mnt/users/czarnecki/local/tfml/svm_linear_fixed_K_20_8_fin_6.experiment', '/mnt/users/czarnecki/local/tfml/svm_linear_fixed_K_20_7_fin_3.experiment', '/mnt/users/czarnecki/local/tfml/svm_linear_fixed_K_20_4_fin_4.experiment', '/mnt/users/czarnecki/local/tfml/svm_linear_fixed_K_20_1_fin_6.experiment', '/mnt/users/czarnecki/local/tfml/svm_linear_fixed_K_20_5_fin_3.experiment', '/mnt/users/czarnecki/local/tfml/svm_linear_fixed_K_20_1_fin_7.experiment', '/mnt/users/czarnecki/local/tfml/svm_linear_fixed_K_20_3_fin_5.experiment', '/mnt/users/czarnecki/local/tfml/svm_linear_fixed_K_20_1_fin_2.experiment', '/mnt/users/czarnecki/local/tfml/svm_linear_fixed_K_20_10_fin_6.experiment', '/mnt/users/czarnecki/local/tfml/svm_linear_fixed_K_20_6_fin_6.experiment', '/mnt/users/czarnecki/local/tfml/svm_linear_fixed_K_20_8_fin_4.experiment', '/mnt/users/czarnecki/local/tfml/svm_linear_fixed_K_20_3_fin_4.experiment', '/mnt/users/czarnecki/local/tfml/svm_linear_fixed_K_20_5_fin_0.experiment', '/mnt/users/czarnecki/local/tfml/svm_linear_fixed_K_20_11_fin_2.experiment', '/mnt/users/czarnecki/local/tfml/svm_linear_fixed_K_20_5_fin_4.experiment', '/mnt/users/czarnecki/local/tfml/svm_linear_fixed_K_20_2_fin_3.experiment', '/mnt/users/czarnecki/local/tfml/svm_linear_fixed_K_20_8_fin_3.experiment', '/mnt/users/czarnecki/local/tfml/svm_linear_fixed_K_20_10_fin_4.experiment', '/mnt/users/czarnecki/local/tfml/svm_linear_fixed_K_20_3_fin_1.experiment', '/mnt/users/czarnecki/local/tfml/svm_linear_fixed_K_20_7_fin_6.experiment', '/mnt/users/czarnecki/local/tfml/svm_linear_fixed_K_20_8_fin_5.experiment', '/mnt/users/czarnecki/local/tfml/svm_linear_fixed_K_20_11_fin_6.experiment', '/mnt/users/czarnecki/local/tfml/svm_linear_fixed_K_20_11_fin_4.experiment', '/mnt/users/czarnecki/local/tfml/svm_linear_fixed_K_20_3_fin_6.experiment', '/mnt/users/czarnecki/local/tfml/svm_linear_fixed_K_20_5_fin_6.experiment', '/mnt/users/czarnecki/local/tfml/svm_linear_fixed_K_20_9_fin_3.experiment', '/mnt/users/czarnecki/local/tfml/svm_linear_fixed_K_20_0_fin_2.experiment', '/mnt/users/czarnecki/local/tfml/svm_linear_fixed_K_20_11_fin_0.experiment', '/mnt/users/czarnecki/local/tfml/svm_linear_fixed_K_20_4_fin_6.experiment', '/mnt/users/czarnecki/local/tfml/svm_linear_fixed_K_20_11_fin_3.experiment', '/mnt/users/czarnecki/local/tfml/svm_linear_fixed_K_20_2_fin_0.experiment', '/mnt/users/czarnecki/local/tfml/svm_linear_fixed_K_20_11_fin_1.experiment', '/mnt/users/czarnecki/local/tfml/svm_linear_fixed_K_20_11_fin_5.experiment', '/mnt/users/czarnecki/local/tfml/svm_linear_fixed_K_20_4_fin_5.experiment', '/mnt/users/czarnecki/local/tfml/svm_linear_fixed_K_20_1_fin_0.experiment', '/mnt/users/czarnecki/local/tfml/svm_linear_fixed_K_20_8_fin_7.experiment', '/mnt/users/czarnecki/local/tfml/svm_linear_fixed_K_20_9_fin_2.experiment', '/mnt/users/czarnecki/local/tfml/svm_linear_fixed_K_20_6_fin_1.experiment', '/mnt/users/czarnecki/local/tfml/svm_linear_fixed_K_20_10_fin_3.experiment', '/mnt/users/czarnecki/local/tfml/svm_linear_fixed_K_20_7_fin_5.experiment', '/mnt/users/czarnecki/local/tfml/svm_linear_fixed_K_20_6_fin_4.experiment', '/mnt/users/czarnecki/local/tfml/svm_linear_fixed_K_20_3_fin_3.experiment', '/mnt/users/czarnecki/local/tfml/svm_linear_fixed_K_20_5_fin_7.experiment', '/mnt/users/czarnecki/local/tfml/svm_linear_fixed_K_20_3_fin_0.experiment', '/mnt/users/czarnecki/local/tfml/svm_linear_fixed_K_20_10_fin_7.experiment', '/mnt/users/czarnecki/local/tfml/svm_linear_fixed_K_20_3_fin_7.experiment', '/mnt/users/czarnecki/local/tfml/svm_linear_fixed_K_20_6_fin_2.experiment', '/mnt/users/czarnecki/local/tfml/svm_linear_fixed_K_20_9_fin_1.experiment', '/mnt/users/czarnecki/local/tfml/svm_linear_fixed_K_20_0_fin_5.experiment', '/mnt/users/czarnecki/local/tfml/svm_linear_fixed_K_20_10_fin_0.experiment', '/mnt/users/czarnecki/local/tfml/svm_linear_fixed_K_20_2_fin_4.experiment', '/mnt/users/czarnecki/local/tfml/svm_linear_fixed_K_20_4_fin_0.experiment', '/mnt/users/czarnecki/local/tfml/svm_linear_fixed_K_20_8_fin_2.experiment', '/mnt/users/czarnecki/local/tfml/svm_linear_fixed_K_20_1_fin_4.experiment', '/mnt/users/czarnecki/local/tfml/svm_linear_fixed_K_20_2_fin_6.experiment', '/mnt/users/czarnecki/local/tfml/svm_linear_fixed_K_20_4_fin_2.experiment', '/mnt/users/czarnecki/local/tfml/svm_linear_fixed_K_20_7_fin_2.experiment', '/mnt/users/czarnecki/local/tfml/svm_linear_fixed_K_20_4_fin_7.experiment', '/mnt/users/czarnecki/local/tfml/svm_linear_fixed_K_20_8_fin_1.experiment', '/mnt/users/czarnecki/local/tfml/svm_linear_fixed_K_20_0_fin_0.experiment', '/mnt/users/czarnecki/local/tfml/svm_linear_fixed_K_20_1_fin_5.experiment', '/mnt/users/czarnecki/local/tfml/svm_linear_fixed_K_20_6_fin_7.experiment', '/mnt/users/czarnecki/local/tfml/svm_linear_fixed_K_20_3_fin_2.experiment', '/mnt/users/czarnecki/local/tfml/svm_linear_fixed_K_20_7_fin_1.experiment', '/mnt/users/czarnecki/local/tfml/svm_linear_fixed_K_20_9_fin_6.experiment', '/mnt/users/czarnecki/local/tfml/svm_linear_fixed_K_20_10_fin_2.experiment', '/mnt/users/czarnecki/local/tfml/svm_linear_fixed_K_20_7_fin_4.experiment', '/mnt/users/czarnecki/local/tfml/svm_linear_fixed_K_20_9_fin_0.experiment', '/mnt/users/czarnecki/local/tfml/svm_linear_fixed_K_20_0_fin_3.experiment', '/mnt/users/czarnecki/local/tfml/svm_linear_fixed_K_20_2_fin_7.experiment', '/mnt/users/czarnecki/local/tfml/svm_linear_fixed_K_20_6_fin_5.experiment', '/mnt/users/czarnecki/local/tfml/svm_linear_fixed_K_20_4_fin_3.experiment']\n"
       ]
      }
     ],
     "prompt_number": 34
    },
    {
     "cell_type": "code",
     "collapsed": false,
     "input": [
      "rbfs = get_all_models(\"svm_rbf_prot\", \"svm_rbf\", \"svm_rbf\")"
     ],
     "language": "python",
     "metadata": {},
     "outputs": [
      {
       "output_type": "stream",
       "stream": "stdout",
       "text": [
        "['/mnt/users/czarnecki/local/tfml/svm_rbf_prot_10_fin_1.experiment', '/mnt/users/czarnecki/local/tfml/svm_rbf_prot_3_fin_3.experiment', '/mnt/users/czarnecki/local/tfml/svm_rbf_prot_10_fin_2.experiment', '/mnt/users/czarnecki/local/tfml/svm_rbf_prot_6_fin_0.experiment', '/mnt/users/czarnecki/local/tfml/svm_rbf_prot_7_fin_5.experiment', '/mnt/users/czarnecki/local/tfml/svm_rbf_prot_0_fin_2.experiment', '/mnt/users/czarnecki/local/tfml/svm_rbf_prot_4_fin_1.experiment', '/mnt/users/czarnecki/local/tfml/svm_rbf_prot_6_fin_5.experiment', '/mnt/users/czarnecki/local/tfml/svm_rbf_prot_9_fin_7.experiment', '/mnt/users/czarnecki/local/tfml/svm_rbf_prot_3_fin_2.experiment', '/mnt/users/czarnecki/local/tfml/svm_rbf_prot_0_fin_1.experiment', '/mnt/users/czarnecki/local/tfml/svm_rbf_prot_5_fin_3.experiment', '/mnt/users/czarnecki/local/tfml/svm_rbf_prot_5_fin_4.experiment', '/mnt/users/czarnecki/local/tfml/svm_rbf_prot_8_fin_3.experiment', '/mnt/users/czarnecki/local/tfml/svm_rbf_prot_4_fin_7.experiment', '/mnt/users/czarnecki/local/tfml/svm_rbf_prot_3_fin_0.experiment', '/mnt/users/czarnecki/local/tfml/svm_rbf_prot_0_fin_6.experiment', '/mnt/users/czarnecki/local/tfml/svm_rbf_prot_8_fin_1.experiment', '/mnt/users/czarnecki/local/tfml/svm_rbf_prot_7_fin_1.experiment', '/mnt/users/czarnecki/local/tfml/svm_rbf_prot_2_fin_7.experiment', '/mnt/users/czarnecki/local/tfml/svm_rbf_prot_2_fin_2.experiment', '/mnt/users/czarnecki/local/tfml/svm_rbf_prot_5_fin_6.experiment', '/mnt/users/czarnecki/local/tfml/svm_rbf_prot_6_fin_4.experiment', '/mnt/users/czarnecki/local/tfml/svm_rbf_prot_6_fin_3.experiment', '/mnt/users/czarnecki/local/tfml/svm_rbf_prot_0_fin_5.experiment', '/mnt/users/czarnecki/local/tfml/svm_rbf_prot_2_fin_0.experiment', '/mnt/users/czarnecki/local/tfml/svm_rbf_prot_7_fin_6.experiment', '/mnt/users/czarnecki/local/tfml/svm_rbf_prot_3_fin_1.experiment', '/mnt/users/czarnecki/local/tfml/svm_rbf_prot_10_fin_4.experiment', '/mnt/users/czarnecki/local/tfml/svm_rbf_prot_10_fin_5.experiment', '/mnt/users/czarnecki/local/tfml/svm_rbf_prot_9_fin_6.experiment', '/mnt/users/czarnecki/local/tfml/svm_rbf_prot_2_fin_5.experiment', '/mnt/users/czarnecki/local/tfml/svm_rbf_prot_1_fin_3.experiment', '/mnt/users/czarnecki/local/tfml/svm_rbf_prot_4_fin_0.experiment', '/mnt/users/czarnecki/local/tfml/svm_rbf_prot_3_fin_6.experiment', '/mnt/users/czarnecki/local/tfml/svm_rbf_prot_2_fin_4.experiment', '/mnt/users/czarnecki/local/tfml/svm_rbf_prot_2_fin_6.experiment', '/mnt/users/czarnecki/local/tfml/svm_rbf_prot_6_fin_1.experiment', '/mnt/users/czarnecki/local/tfml/svm_rbf_prot_8_fin_0.experiment', '/mnt/users/czarnecki/local/tfml/svm_rbf_prot_4_fin_4.experiment', '/mnt/users/czarnecki/local/tfml/svm_rbf_prot_5_fin_2.experiment', '/mnt/users/czarnecki/local/tfml/svm_rbf_prot_0_fin_4.experiment', '/mnt/users/czarnecki/local/tfml/svm_rbf_prot_1_fin_1.experiment', '/mnt/users/czarnecki/local/tfml/svm_rbf_prot_8_fin_5.experiment', '/mnt/users/czarnecki/local/tfml/svm_rbf_prot_9_fin_2.experiment', '/mnt/users/czarnecki/local/tfml/svm_rbf_prot_8_fin_2.experiment', '/mnt/users/czarnecki/local/tfml/svm_rbf_prot_10_fin_0.experiment', '/mnt/users/czarnecki/local/tfml/svm_rbf_prot_1_fin_7.experiment', '/mnt/users/czarnecki/local/tfml/svm_rbf_prot_1_fin_5.experiment', '/mnt/users/czarnecki/local/tfml/svm_rbf_prot_8_fin_7.experiment', '/mnt/users/czarnecki/local/tfml/svm_rbf_prot_7_fin_7.experiment', '/mnt/users/czarnecki/local/tfml/svm_rbf_prot_10_fin_6.experiment', '/mnt/users/czarnecki/local/tfml/svm_rbf_prot_3_fin_5.experiment', '/mnt/users/czarnecki/local/tfml/svm_rbf_prot_1_fin_2.experiment', '/mnt/users/czarnecki/local/tfml/svm_rbf_prot_9_fin_1.experiment', '/mnt/users/czarnecki/local/tfml/svm_rbf_prot_10_fin_3.experiment', '/mnt/users/czarnecki/local/tfml/svm_rbf_prot_6_fin_7.experiment', '/mnt/users/czarnecki/local/tfml/svm_rbf_prot_7_fin_0.experiment', '/mnt/users/czarnecki/local/tfml/svm_rbf_prot_0_fin_0.experiment', '/mnt/users/czarnecki/local/tfml/svm_rbf_prot_1_fin_0.experiment', '/mnt/users/czarnecki/local/tfml/svm_rbf_prot_11_fin_0.experiment', '/mnt/users/czarnecki/local/tfml/svm_rbf_prot_6_fin_6.experiment', '/mnt/users/czarnecki/local/tfml/svm_rbf_prot_1_fin_6.experiment', '/mnt/users/czarnecki/local/tfml/svm_rbf_prot_5_fin_1.experiment', '/mnt/users/czarnecki/local/tfml/svm_rbf_prot_9_fin_0.experiment', '/mnt/users/czarnecki/local/tfml/svm_rbf_prot_3_fin_7.experiment', '/mnt/users/czarnecki/local/tfml/svm_rbf_prot_6_fin_2.experiment', '/mnt/users/czarnecki/local/tfml/svm_rbf_prot_4_fin_6.experiment', '/mnt/users/czarnecki/local/tfml/svm_rbf_prot_8_fin_6.experiment', '/mnt/users/czarnecki/local/tfml/svm_rbf_prot_5_fin_7.experiment', '/mnt/users/czarnecki/local/tfml/svm_rbf_prot_0_fin_7.experiment', '/mnt/users/czarnecki/local/tfml/svm_rbf_prot_1_fin_4.experiment', '/mnt/users/czarnecki/local/tfml/svm_rbf_prot_5_fin_0.experiment', '/mnt/users/czarnecki/local/tfml/svm_rbf_prot_4_fin_5.experiment', '/mnt/users/czarnecki/local/tfml/svm_rbf_prot_5_fin_5.experiment', '/mnt/users/czarnecki/local/tfml/svm_rbf_prot_4_fin_3.experiment', '/mnt/users/czarnecki/local/tfml/svm_rbf_prot_0_fin_3.experiment', '/mnt/users/czarnecki/local/tfml/svm_rbf_prot_10_fin_7.experiment', '/mnt/users/czarnecki/local/tfml/svm_rbf_prot_3_fin_4.experiment', '/mnt/users/czarnecki/local/tfml/svm_rbf_prot_7_fin_4.experiment', '/mnt/users/czarnecki/local/tfml/svm_rbf_prot_4_fin_2.experiment', '/mnt/users/czarnecki/local/tfml/svm_rbf_prot_8_fin_4.experiment', '/mnt/users/czarnecki/local/tfml/svm_rbf_prot_2_fin_1.experiment']\n"
       ]
      }
     ],
     "prompt_number": 36
    },
    {
     "cell_type": "code",
     "collapsed": false,
     "input": [
      "len(rbfs)"
     ],
     "language": "python",
     "metadata": {},
     "outputs": [
      {
       "metadata": {},
       "output_type": "pyout",
       "prompt_number": 35,
       "text": [
        "79"
       ]
      }
     ],
     "prompt_number": 35
    },
    {
     "cell_type": "code",
     "collapsed": false,
     "input": [
      "e = rbfs[(0,2)]"
     ],
     "language": "python",
     "metadata": {},
     "outputs": [],
     "prompt_number": 29
    },
    {
     "cell_type": "code",
     "collapsed": false,
     "input": [],
     "language": "python",
     "metadata": {},
     "outputs": []
    },
    {
     "cell_type": "code",
     "collapsed": false,
     "input": [
      "models = [[\"SVM RBF\", rbfs], [\"SVM RBF Nystroem\", rbf_nystr], [\"Jaccard SVM\", jaccard], [\"kNNSE + SVM\", linear]]\n",
      "\n",
      "rows = []\n",
      "\n",
      "for m_name, model in models:\n",
      "    time_est = 0\n",
      "    time_est_test = 0\n",
      "\n",
      "    print m_name\n",
      "    \n",
      "    row = []\n",
      "    row.append(m_name)\n",
      "    \n",
      "    for (p,f) in exps():\n",
      "\n",
      "        if (p,f) not in rbfs:\n",
      "            continue\n",
      "\n",
      "        e = model[(p,f)]\n",
      "\n",
      "        if (p,f) == (0,0):\n",
      "            print len(e[\"experiments\"])\n",
      "        \n",
      "        for k in e[\"experiments\"]:\n",
      "            time_est += sum(k[\"monitors\"][\"train_time\"])\n",
      "            \n",
      "            if \"test_time\" in k[\"monitors\"]:\n",
      "                time_est_test += sum(k[\"monitors\"][\"test_time\"])\n",
      "            \n",
      "    row.append(time_est/3600.)\n",
      "    row.append(time_est_test/3600.)\n",
      "    rows.append(row)"
     ],
     "language": "python",
     "metadata": {},
     "outputs": [
      {
       "output_type": "stream",
       "stream": "stdout",
       "text": [
        "SVM RBF\n",
        "165\n",
        "SVM RBF Nystroem"
       ]
      },
      {
       "output_type": "stream",
       "stream": "stdout",
       "text": [
        "\n",
        "150\n",
        "Jaccard SVM\n",
        "165\n",
        "kNNSE + SVM"
       ]
      },
      {
       "output_type": "stream",
       "stream": "stdout",
       "text": [
        "\n",
        "22\n"
       ]
      }
     ],
     "prompt_number": 122
    },
    {
     "cell_type": "code",
     "collapsed": false,
     "input": [
      "# Adjust scores of jaccard\n",
      "rows[3][1] = rows[3][1]*(22/165.0) + 25\n",
      "rows[3][2] = rows[3][2]*(22/165.0) \n",
      "# Adjust score of linear\n",
      "rows[1][1] += 16\n"
     ],
     "language": "python",
     "metadata": {},
     "outputs": [],
     "prompt_number": 123
    },
    {
     "cell_type": "code",
     "collapsed": false,
     "input": [
      "rows.append([\"kNNSE + LR\", 0.0, 0.0])"
     ],
     "language": "python",
     "metadata": {},
     "outputs": [],
     "prompt_number": 124
    },
    {
     "cell_type": "code",
     "collapsed": false,
     "input": [
      "df = pd.DataFrame(rows, columns=[\"Model\", \"Training time [h]\", \"Testing time [h]\"])"
     ],
     "language": "python",
     "metadata": {},
     "outputs": [],
     "prompt_number": 125
    },
    {
     "cell_type": "markdown",
     "metadata": {},
     "source": [
      "# Support vectors"
     ]
    },
    {
     "cell_type": "code",
     "collapsed": false,
     "input": [
      "models = [[\"SVM RBF\", rbfs],  [\"SVM RBF Nystroem\", rbf_nystr], [\"Jaccard SVM\", jaccard]]\n",
      "\n",
      "rows = []\n",
      "\n",
      "for m_name, model in models:\n",
      "    n_support = 0\n",
      "    count = 0\n",
      "    \n",
      "    print m_name\n",
      "    \n",
      "    row = []\n",
      "    row.append(m_name)\n",
      "    \n",
      "    \n",
      "    \n",
      "    for (p,f) in exps():\n",
      "        X,Y = get_raw_training_data(protein=p, fingerprint=f, seed=0)\n",
      "        if (p,f) not in rbfs:\n",
      "            continue\n",
      "\n",
      "        e = model[(p,f)]\n",
      "\n",
      "        \n",
      "        for k in e[\"experiments\"]:\n",
      "            if \"n_support\" in k[\"monitors\"]:\n",
      "                n_support += np.sum(k[\"monitors\"][\"n_support\"])/(10.0)\n",
      "                count += 1\n",
      "            \n",
      "    \n",
      "    row.append(n_support/float(count))\n",
      "    \n",
      "    print row\n",
      "    \n",
      "    rows.append(row)"
     ],
     "language": "python",
     "metadata": {},
     "outputs": [
      {
       "output_type": "stream",
       "stream": "stdout",
       "text": [
        "SVM RBF\n",
        "['SVM RBF', 1790.7074187230894]"
       ]
      },
      {
       "output_type": "stream",
       "stream": "stdout",
       "text": [
        "\n",
        "SVM RBF Nystroem\n",
        "['SVM RBF Nystroem', 1799.9784636118829]"
       ]
      },
      {
       "output_type": "stream",
       "stream": "stdout",
       "text": [
        "\n",
        "Jaccard SVM\n",
        "['Jaccard SVM', 1198.2641019108296]"
       ]
      },
      {
       "output_type": "stream",
       "stream": "stdout",
       "text": [
        "\n"
       ]
      }
     ],
     "prompt_number": 126
    },
    {
     "cell_type": "code",
     "collapsed": false,
     "input": [
      "#Adjust and add to the dataframe\n",
      "rows.append([\"kNNSE + SVM\", 20+8])\n",
      "rows.append([\"kNNSE + LR\", 20+8])\n",
      "df[\"Model parameters\"] = [int(r[1]) for r in rows]"
     ],
     "language": "python",
     "metadata": {},
     "outputs": [],
     "prompt_number": 127
    },
    {
     "cell_type": "code",
     "collapsed": false,
     "input": [
      "df = df[[\"Model\", \"Model parameters\", \"Training time [h]\", \"Testing time [h]\"]]"
     ],
     "language": "python",
     "metadata": {},
     "outputs": [],
     "prompt_number": 131
    },
    {
     "cell_type": "code",
     "collapsed": false,
     "input": [
      "print df.to_latex(index=False, header=True, formatters=[lambda x:x, lambda x: str(x), lambda x:\"%.2f\"%(float(x)),  lambda x:\"%.1f\"%(float(x))])"
     ],
     "language": "python",
     "metadata": {},
     "outputs": [
      {
       "output_type": "stream",
       "stream": "stdout",
       "text": [
        "\\begin{tabular}{lrrr}\n",
        "\\toprule\n",
        "            Model & Model parameters & Training time [h] & Testing time [h] \\\\\n",
        "\\midrule\n",
        "          SVM RBF &             1790 &            233.27 &             21.8 \\\\\n",
        " SVM RBF Nystroem &             1799 &             67.10 &              2.5 \\\\\n",
        "      Jaccard SVM &             1198 &             11.69 &              0.4 \\\\\n",
        "      kNNSE + SVM &               28 &             27.60 &              0.0 \\\\\n",
        "       kNNSE + LR &               28 &              0.00 &              0.0 \\\\\n",
        "\\bottomrule\n",
        "\\end{tabular}\n",
        "\n"
       ]
      }
     ],
     "prompt_number": 133
    },
    {
     "cell_type": "code",
     "collapsed": false,
     "input": [
      "time_est/3600, time_est_test/3600"
     ],
     "language": "python",
     "metadata": {},
     "outputs": [
      {
       "metadata": {},
       "output_type": "pyout",
       "prompt_number": 47,
       "text": [
        "(19.471673166751863, 0.0245872520075904)"
       ]
      }
     ],
     "prompt_number": 47
    },
    {
     "cell_type": "code",
     "collapsed": false,
     "input": [
      "time_est/3600, time_est_test/3600"
     ],
     "language": "python",
     "metadata": {},
     "outputs": [
      {
       "metadata": {},
       "output_type": "pyout",
       "prompt_number": 45,
       "text": [
        "(233.2718767894639, 21.784412072036)"
       ]
      }
     ],
     "prompt_number": 45
    },
    {
     "cell_type": "code",
     "collapsed": false,
     "input": [
      "time_est/3600"
     ],
     "language": "python",
     "metadata": {},
     "outputs": [
      {
       "metadata": {},
       "output_type": "pyout",
       "prompt_number": 43,
       "text": [
        "233.2718767894639"
       ]
      }
     ],
     "prompt_number": 43
    },
    {
     "cell_type": "markdown",
     "metadata": {},
     "source": [
      "## Support vectors "
     ]
    },
    {
     "cell_type": "code",
     "collapsed": false,
     "input": [],
     "language": "python",
     "metadata": {},
     "outputs": [
      {
       "output_type": "stream",
       "stream": "stdout",
       "text": [
        "SVM RBF\n",
        "['SVM RBF', 1790.7074187230894]"
       ]
      },
      {
       "output_type": "stream",
       "stream": "stdout",
       "text": [
        "\n",
        "SVM RBF Nystroem\n",
        "['SVM RBF Nystroem', 1799.9784636118829]"
       ]
      },
      {
       "output_type": "stream",
       "stream": "stdout",
       "text": [
        "\n",
        "Jaccard SVM\n",
        "['Jaccard SVM', 1198.2641019108296]"
       ]
      },
      {
       "output_type": "stream",
       "stream": "stdout",
       "text": [
        "\n"
       ]
      }
     ],
     "prompt_number": 117
    },
    {
     "cell_type": "code",
     "collapsed": false,
     "input": [
      "rows = rows_old"
     ],
     "language": "python",
     "metadata": {},
     "outputs": [],
     "prompt_number": 111
    },
    {
     "cell_type": "code",
     "collapsed": false,
     "input": [],
     "language": "python",
     "metadata": {},
     "outputs": [],
     "prompt_number": 118
    },
    {
     "cell_type": "code",
     "collapsed": false,
     "input": [
      "rows"
     ],
     "language": "python",
     "metadata": {},
     "outputs": [
      {
       "metadata": {},
       "output_type": "pyout",
       "prompt_number": 120,
       "text": [
        "[['SVM RBF', 1790.7074187230894],\n",
        " ['SVM RBF Nystroem', 1799.9784636118829],\n",
        " ['Jaccard SVM', 1198.2641019108296],\n",
        " ['kNNSE + SVM', 28],\n",
        " ['kNNSE + LR', 28]]"
       ]
      }
     ],
     "prompt_number": 120
    },
    {
     "cell_type": "code",
     "collapsed": false,
     "input": [
      "df"
     ],
     "language": "python",
     "metadata": {},
     "outputs": [
      {
       "html": [
        "<div style=\"max-height:1000px;max-width:1500px;overflow:auto;\">\n",
        "<table border=\"1\" class=\"dataframe\">\n",
        "  <thead>\n",
        "    <tr style=\"text-align: right;\">\n",
        "      <th></th>\n",
        "      <th>Model</th>\n",
        "      <th>Model parameters</th>\n",
        "    </tr>\n",
        "  </thead>\n",
        "  <tbody>\n",
        "    <tr>\n",
        "      <th>0</th>\n",
        "      <td>          SVM RBF</td>\n",
        "      <td> 1790.707419</td>\n",
        "    </tr>\n",
        "    <tr>\n",
        "      <th>1</th>\n",
        "      <td> SVM RBF Nystroem</td>\n",
        "      <td>   28.000000</td>\n",
        "    </tr>\n",
        "    <tr>\n",
        "      <th>2</th>\n",
        "      <td>      Jaccard SVM</td>\n",
        "      <td> 1198.264102</td>\n",
        "    </tr>\n",
        "    <tr>\n",
        "      <th>3</th>\n",
        "      <td>       kNNSE + LR</td>\n",
        "      <td>   28.000000</td>\n",
        "    </tr>\n",
        "  </tbody>\n",
        "</table>\n",
        "</div>"
       ],
       "metadata": {},
       "output_type": "pyout",
       "prompt_number": 116,
       "text": [
        "              Model  Model parameters\n",
        "0           SVM RBF       1790.707419\n",
        "1  SVM RBF Nystroem         28.000000\n",
        "2       Jaccard SVM       1198.264102\n",
        "3        kNNSE + LR         28.000000"
       ]
      }
     ],
     "prompt_number": 116
    },
    {
     "cell_type": "code",
     "collapsed": false,
     "input": [
      "rows_old = rows"
     ],
     "language": "python",
     "metadata": {},
     "outputs": [],
     "prompt_number": 104
    }
   ],
   "metadata": {}
  }
 ]
}