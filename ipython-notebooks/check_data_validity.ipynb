{
 "metadata": {
  "name": "",
  "signature": "sha256:b7f1fbeb21702a1b1790b8624c3da85dc0778b948a1885b8234874d287aef3f5"
 },
 "nbformat": 3,
 "nbformat_minor": 0,
 "worksheets": [
  {
   "cells": [
    {
     "cell_type": "code",
     "collapsed": false,
     "input": [
      "%load_ext autoreload\n",
      "%autoreload 2\n",
      "from misc.utils import *\n",
      "import scipy\n",
      "from misc.lsh import *\n",
      "from misc.experiment_utils import *\n",
      "from data_api import *"
     ],
     "language": "python",
     "metadata": {},
     "outputs": [],
     "prompt_number": 1
    },
    {
     "cell_type": "code",
     "collapsed": false,
     "input": [
      "# Draw distributions of data statistics for random protein\n",
      "prot = np.random.randint(0, len(proteins))\n",
      "finger = np.random.randint(0, len(fingerprints))\n"
     ],
     "language": "python",
     "metadata": {},
     "outputs": []
    },
    {
     "cell_type": "code",
     "collapsed": false,
     "input": [
      "# We would like\n",
      "\n",
      "# 1) LSH query returns almost always > K neighbours\n",
      "# 2) LSH and exact results are pretty close\n",
      "# 3) Distributions of features are significantly different among classes"
     ],
     "language": "python",
     "metadata": {},
     "outputs": []
    }
   ],
   "metadata": {}
  }
 ]
}